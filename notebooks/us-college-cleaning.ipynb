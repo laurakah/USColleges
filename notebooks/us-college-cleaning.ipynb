{
 "cells": [
  {
   "cell_type": "code",
   "execution_count": 1,
   "metadata": {},
   "outputs": [
    {
     "name": "stderr",
     "output_type": "stream",
     "text": [
      "/Library/Frameworks/Python.framework/Versions/3.7/lib/python3.7/site-packages/IPython/core/interactiveshell.py:3058: DtypeWarning: Columns (31,1726,1727,1728,1729,1815,1817,1823,1830,1879,1880,1881,1882,1883,1884,1885,1886,1887,1888,1889,1890,1891,1892,1893,1894,1895,1896,1897,1898,1957,1958,1959,1960,1961,1962,1963,1964,1965,1966,1967,1968,1969,1970,1971,1972,1973,1974,1975,1976) have mixed types. Specify dtype option on import or set low_memory=False.\n",
      "  interactivity=interactivity, compiler=compiler, result=result)\n"
     ]
    }
   ],
   "source": [
    "import pandas as pd\n",
    "import numpy as np\n",
    "\n",
    "pd.set_option('display.max_rows', 500)\n",
    "pd.set_option('display.max_columns', 500)\n",
    "pd.set_option('display.width', 1000)\n",
    "\n",
    "# reading first data set (2017/18)\n",
    "df = pd.read_csv(\"../data_raw/MERGED2017_18_PP.csv\")\n"
   ]
  },
  {
   "cell_type": "code",
   "execution_count": 2,
   "metadata": {},
   "outputs": [],
   "source": [
    "# reading second data set (2018/19) for most recent data and missing fields\n",
    "df2 = pd.read_csv(\"../data_raw/Most-Recent-Cohorts-Scorecard-Elements.csv\")"
   ]
  },
  {
   "cell_type": "code",
   "execution_count": 3,
   "metadata": {},
   "outputs": [],
   "source": [
    "# merging both dataframes\n",
    "df = df2.merge(right=df, how=\"inner\", on=\"UNITID\")"
   ]
  },
  {
   "cell_type": "code",
   "execution_count": 4,
   "metadata": {},
   "outputs": [],
   "source": [
    "# selecting columns according to analysis goals (keeping _x suffixes on duplicates: these belong to the most recent\n",
    "# dataset)\n",
    "df = df[[\"UNITID\", \"INSTNM_x\", \"CURROPER_x\", \"CITY_x\", \"STABBR_x\", \"INSTURL_x\", \"LATITUDE\", \"LONGITUDE\", \"DISTANCEONLY_x\", \"PREDDEG_x\", \"CIPTITLE1_x\", \"CIPTITLE2_x\", \"CIPTITLE3_x\", \"CIPTITLE4_x\", \"CIPTITLE5_x\", \"CIPTITLE6_x\", \"ADM_RATE\", \"COSTT4_A\", \"COSTT4_P\", \"UGDS_x\", \"PCTFLOAN_x\", \"PCTPELL_x\", \"GRAD_DEBT_MDN_SUPP_x\", \"GRAD_DEBT_MDN_SUPP_x\", \"GRAD_DEBT_MDN10YR_SUPP_x\", \"C100_4\", \"C100_L4\", \"MD_EARN_WNE_P10_x\", \"RPY_3YR_RT_SUPP_x\"]].copy()"
   ]
  },
  {
   "cell_type": "code",
   "execution_count": 5,
   "metadata": {},
   "outputs": [],
   "source": [
    "# dropping rows containing colleges not currently operating\n",
    "indexes = df[df[\"CURROPER_x\"] == 0 ].index\n",
    "df = df.drop(indexes)"
   ]
  },
  {
   "cell_type": "code",
   "execution_count": 6,
   "metadata": {},
   "outputs": [],
   "source": [
    "# dropping the corresponding column after filtering rows\n",
    "df = df.drop(\"CURROPER_x\", axis=1)"
   ]
  },
  {
   "cell_type": "code",
   "execution_count": 7,
   "metadata": {},
   "outputs": [],
   "source": [
    "# renaming columns\n",
    "df = df.rename(columns={\"UNITID\": \"COLLEGE_ID\",\n",
    "               \"INSTNM_x\": \"NAME\",\n",
    "               \"CITY_x\": \"CITY\",\n",
    "               \"STABBR_x\": \"STATE\",\n",
    "                \"INSTURL_x\": \"URL\",\n",
    "                \"DISTANCEONLY_x\": \"DISTANCEONLY\",\n",
    "                \"PREDDEG_x\": \"DEGREE\",\n",
    "                \"CIPTITLE1_x\": \"SUBJECT1\",\n",
    "                \"CIPTITLE2_x\": \"SUBJECT2\",\n",
    "                \"CIPTITLE3_x\": \"SUBJECT3\",\n",
    "                \"CIPTITLE4_x\": \"SUBJECT4\",\n",
    "                \"CIPTITLE5_x\": \"SUBJECT5\",\n",
    "                \"CIPTITLE6_x\": \"SUBJECT6\",\n",
    "                \"ADM_RATE\": \"ADMISSION_RATE\",\n",
    "                \"COSTT4_A\": \"COST_ACADEMIC_YEAR\",\n",
    "                \"COSTT4_P\": \"COST_PROGRAM_YEAR\",\n",
    "                \"UGDS_x\": \"UG_STUDENTS_ENROLLED\",\n",
    "                \"PCTFLOAN_x\": \"STUDENTS_FED_LOANS_PERCENT\",\n",
    "                \"PCTPELL_x\": \"STUDENTS_FED_PELL_GRANTS_PERCENT\",\n",
    "                \"GRAD_DEBT_MDN_SUPP_x\": \"MONTH_DEBT_AFTER_GRAD\",\n",
    "                \"GRAD_DEBT_MDN10YR_SUPP_x\": \"MONTH_DEBT_AFTER_10YRS\",\n",
    "                \"C100_4\": \"GRAD_WITHIN_EXPECTED_TIME_4YRS\",\n",
    "                \"C100_L4\": \"GRAD_WITHIN_EXPECTED_TIME_LESS_4YRS\",\n",
    "                \"MD_EARN_WNE_P10_x\": \"MEAN_EARNING_BEFORE_ENROLLMENT\",\n",
    "                \"RPY_3YR_RT_SUPP_x\": \"LOAN_REPAY_AFTER_3YRS_PERCENT\"})"
   ]
  },
  {
   "cell_type": "code",
   "execution_count": 8,
   "metadata": {},
   "outputs": [],
   "source": [
    "# writing dataframe to csv\n",
    "df.to_csv(\"../data_clean/us_colleges_17_18_19_clean.csv\")"
   ]
  }
 ],
 "metadata": {
  "kernelspec": {
   "display_name": "Python 3",
   "language": "python",
   "name": "python3"
  },
  "language_info": {
   "codemirror_mode": {
    "name": "ipython",
    "version": 3
   },
   "file_extension": ".py",
   "mimetype": "text/x-python",
   "name": "python",
   "nbconvert_exporter": "python",
   "pygments_lexer": "ipython3",
   "version": "3.7.0"
  }
 },
 "nbformat": 4,
 "nbformat_minor": 2
}
